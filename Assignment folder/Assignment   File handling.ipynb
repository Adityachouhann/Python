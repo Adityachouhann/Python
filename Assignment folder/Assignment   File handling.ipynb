{
 "cells": [
  {
   "cell_type": "code",
   "execution_count": 9,
   "id": "dae09ce9",
   "metadata": {},
   "outputs": [],
   "source": [
    "#Create 4 lists Extract\n",
    "#1) First name\n",
    "#2) Second name\n",
    "#3) Company name\n",
    "#4) Company email id\n"
   ]
  },
  {
   "cell_type": "code",
   "execution_count": 4,
   "id": "842bb8e6",
   "metadata": {},
   "outputs": [
    {
     "data": {
      "text/plain": [
       "'C:\\\\Users\\\\ajcho\\\\OneDrive\\\\Desktop\\\\full stack data science and AI\\\\DATA files\\\\emails.txt'"
      ]
     },
     "execution_count": 4,
     "metadata": {},
     "output_type": "execute_result"
    }
   ],
   "source": [
    "path=r'C:\\Users\\ajcho\\OneDrive\\Desktop\\full stack data science and AI\\DATA files\\emails.txt'\n",
    "path"
   ]
  },
  {
   "cell_type": "code",
   "execution_count": 5,
   "id": "ff74667d",
   "metadata": {},
   "outputs": [
    {
     "data": {
      "text/plain": [
       "'Santhanam, Jayendhran <jayendhran.ms@accenture.com>; Bhattacharjee, Sankalan <s.t.bhattacharjee@accenture.com>; Bansal, Vaishnavi <vaishnavi.a.bansal@accenture.com>; Chandra Shekhar, Pavuluri <p.a.chandra.shekhar@accenture.com>; J Doshi, Hiren <hiren.j.doshi@accenture.com>; Shimoga Prakash, Jeevan <j.shimoga.prakash@accenture.com>; Akhouri, Shreyash <shreyash.akhouri@accenture.com>; Nath, Nupanga <nupanga.nath@accenture.com>; Ponna, Ramesh <r.ponna@accenture.com>; Singhal, Aditya <aditya.d.singhal@accenture.com>; Gorai, Sumit <sumit.gorai@accenture.com>; Valdez, Mariele Dyan Francely <mariele.dyan.valdez@accenture.com>; Cancel, Abigail Kyle <abigail.kyle.cancel@accenture.com>; BONDALAKUNTA, POOJITHA <p.bondalakunta@accenture.com>; priyanka uppala, sai <sai.priyanka.uppala@accenture.com>; Nitin SHINDE, NIKHIL <nikhil.nitin.shinde@accenture.com>; Chidre, Swapna <swapna.chidre@accenture.com>; Sahu, Swastik <s.satyapragyan.sahu@accenture.com>; Sikka, Ankit <ankit.sikka@accenture.com>; Dara, Sai Madhukar <sai.madhukar.dara@accenture.com>; Pattanshetti, Sampreet <s.pattanshetti@accenture.com>; Sharma, Ayush <ayush.ad.sharma@accenture.com>; Latorena, Zairous Jay <zairous.jay.latorena@accenture.com>; Abhimanyu Pradhan, Roshankumar <r.abhimanyu.pradhan@accenture.com>; Jaiswal, Lehar <lehar.jaiswal@accenture.com>; Gupta, Retik <retik.gupta@accenture.com>; Satti, Phanindra Reddy <phanindra.r.satti@accenture.com>; Kumar, Manish <manish.dw.kumar@accenture.com>; Balakrishnan, Devi Priya <devi.p.balakrishnan@accenture.com>; M S, Roshni Priya <roshni.priya.m.s@accenture.com>; Cheerala, Vanaja <vanaja.cheerala@accenture.com>; G D, Chandrashekhar <chandrashekhar.g.d@accenture.com>; Nikhil Reddy, Madithati <m.nikhil.reddy@accenture.com>; Santos, Jeroshelle V. <jeroshelle.v.santos@accenture.com>; Milan, Gerald John <gerald.john.milan@accenture.com>; Gupta, Vivek <vivek.u.gupta@accenture.com>; Mandal, Sumit <s.sunilkumar.mandal@accenture.com>; Prakash Shukla, Ashok <ashok.prakash.shukla@accenture.com>; Naganathan, Siva <sivakumar.naganathan@accenture.com>; GAHLOT, NIKHIL <nikhil.gahlot@accenture.com>; Kanjilal, Sourav <s.a.kanti.kanjilal@accenture.com>; Nallagoni, Omkar <omkar.nallagoni@accenture.com>; Sahajan, Sandra <sandra.sahajan@accenture.com>; Nelluri, Chaitanya <chaitanya.nelluri@accenture.com>'"
      ]
     },
     "execution_count": 5,
     "metadata": {},
     "output_type": "execute_result"
    }
   ],
   "source": [
    "data=open(path,\n",
    "         encoding='utf-8-sig').read()\n",
    "data"
   ]
  },
  {
   "cell_type": "code",
   "execution_count": 6,
   "id": "c5f1b96e",
   "metadata": {},
   "outputs": [
    {
     "data": {
      "text/plain": [
       "'Santhanam, Jayendhran <jayendhran.ms@accenture.com>'"
      ]
     },
     "execution_count": 6,
     "metadata": {},
     "output_type": "execute_result"
    }
   ],
   "source": [
    "data.split(';')[0]"
   ]
  },
  {
   "cell_type": "code",
   "execution_count": 7,
   "id": "1bf9f1cb",
   "metadata": {},
   "outputs": [
    {
     "data": {
      "text/plain": [
       "'Santhanam'"
      ]
     },
     "execution_count": 7,
     "metadata": {},
     "output_type": "execute_result"
    }
   ],
   "source": [
    "s1='Santhanam, Jayendhran <jayendhran.ms@accenture.com>'\n",
    "\n",
    "# first refer =','\n",
    "#second ='<'\n",
    "# third ='>'\n",
    "# fouth='@'\n",
    "s1.split(',')[0]"
   ]
  },
  {
   "cell_type": "code",
   "execution_count": 9,
   "id": "cce4c90c",
   "metadata": {},
   "outputs": [
    {
     "data": {
      "text/plain": [
       "'Santhanam'"
      ]
     },
     "execution_count": 9,
     "metadata": {},
     "output_type": "execute_result"
    }
   ],
   "source": [
    "l1=data.split(';')\n",
    "l1[0].split(',')[0]"
   ]
  },
  {
   "cell_type": "code",
   "execution_count": 12,
   "id": "961d2c8f",
   "metadata": {},
   "outputs": [
    {
     "data": {
      "text/plain": [
       "44"
      ]
     },
     "execution_count": 12,
     "metadata": {},
     "output_type": "execute_result"
    }
   ],
   "source": [
    "l1=data.split(';')\n",
    "len(l1)"
   ]
  },
  {
   "cell_type": "code",
   "execution_count": 13,
   "id": "02fbe9e5",
   "metadata": {},
   "outputs": [
    {
     "data": {
      "text/plain": [
       "'Santhanam, Jayendhran <jayendhran.ms@accenture.com>'"
      ]
     },
     "execution_count": 13,
     "metadata": {},
     "output_type": "execute_result"
    }
   ],
   "source": [
    "l1[0]"
   ]
  },
  {
   "cell_type": "code",
   "execution_count": null,
   "id": "217a727f",
   "metadata": {},
   "outputs": [],
   "source": [
    "s1='Santhanam, Jayendhran <jayendhran.ms@accenture.com>'"
   ]
  },
  {
   "cell_type": "code",
   "execution_count": 15,
   "id": "43c0d9a2",
   "metadata": {},
   "outputs": [
    {
     "data": {
      "text/plain": [
       "['Santhanam, Jayendhran <jayendhran.ms@accenture.com>',\n",
       " ' Bhattacharjee, Sankalan <s.t.bhattacharjee@accenture.com>',\n",
       " ' Bansal, Vaishnavi <vaishnavi.a.bansal@accenture.com>',\n",
       " ' Chandra Shekhar, Pavuluri <p.a.chandra.shekhar@accenture.com>',\n",
       " ' J Doshi, Hiren <hiren.j.doshi@accenture.com>',\n",
       " ' Shimoga Prakash, Jeevan <j.shimoga.prakash@accenture.com>',\n",
       " ' Akhouri, Shreyash <shreyash.akhouri@accenture.com>',\n",
       " ' Nath, Nupanga <nupanga.nath@accenture.com>',\n",
       " ' Ponna, Ramesh <r.ponna@accenture.com>',\n",
       " ' Singhal, Aditya <aditya.d.singhal@accenture.com>',\n",
       " ' Gorai, Sumit <sumit.gorai@accenture.com>',\n",
       " ' Valdez, Mariele Dyan Francely <mariele.dyan.valdez@accenture.com>',\n",
       " ' Cancel, Abigail Kyle <abigail.kyle.cancel@accenture.com>',\n",
       " ' BONDALAKUNTA, POOJITHA <p.bondalakunta@accenture.com>',\n",
       " ' priyanka uppala, sai <sai.priyanka.uppala@accenture.com>',\n",
       " ' Nitin SHINDE, NIKHIL <nikhil.nitin.shinde@accenture.com>',\n",
       " ' Chidre, Swapna <swapna.chidre@accenture.com>',\n",
       " ' Sahu, Swastik <s.satyapragyan.sahu@accenture.com>',\n",
       " ' Sikka, Ankit <ankit.sikka@accenture.com>',\n",
       " ' Dara, Sai Madhukar <sai.madhukar.dara@accenture.com>',\n",
       " ' Pattanshetti, Sampreet <s.pattanshetti@accenture.com>',\n",
       " ' Sharma, Ayush <ayush.ad.sharma@accenture.com>',\n",
       " ' Latorena, Zairous Jay <zairous.jay.latorena@accenture.com>',\n",
       " ' Abhimanyu Pradhan, Roshankumar <r.abhimanyu.pradhan@accenture.com>',\n",
       " ' Jaiswal, Lehar <lehar.jaiswal@accenture.com>',\n",
       " ' Gupta, Retik <retik.gupta@accenture.com>',\n",
       " ' Satti, Phanindra Reddy <phanindra.r.satti@accenture.com>',\n",
       " ' Kumar, Manish <manish.dw.kumar@accenture.com>',\n",
       " ' Balakrishnan, Devi Priya <devi.p.balakrishnan@accenture.com>',\n",
       " ' M S, Roshni Priya <roshni.priya.m.s@accenture.com>',\n",
       " ' Cheerala, Vanaja <vanaja.cheerala@accenture.com>',\n",
       " ' G D, Chandrashekhar <chandrashekhar.g.d@accenture.com>',\n",
       " ' Nikhil Reddy, Madithati <m.nikhil.reddy@accenture.com>',\n",
       " ' Santos, Jeroshelle V. <jeroshelle.v.santos@accenture.com>',\n",
       " ' Milan, Gerald John <gerald.john.milan@accenture.com>',\n",
       " ' Gupta, Vivek <vivek.u.gupta@accenture.com>',\n",
       " ' Mandal, Sumit <s.sunilkumar.mandal@accenture.com>',\n",
       " ' Prakash Shukla, Ashok <ashok.prakash.shukla@accenture.com>',\n",
       " ' Naganathan, Siva <sivakumar.naganathan@accenture.com>',\n",
       " ' GAHLOT, NIKHIL <nikhil.gahlot@accenture.com>',\n",
       " ' Kanjilal, Sourav <s.a.kanti.kanjilal@accenture.com>',\n",
       " ' Nallagoni, Omkar <omkar.nallagoni@accenture.com>',\n",
       " ' Sahajan, Sandra <sandra.sahajan@accenture.com>',\n",
       " ' Nelluri, Chaitanya <chaitanya.nelluri@accenture.com>']"
      ]
     },
     "execution_count": 15,
     "metadata": {},
     "output_type": "execute_result"
    }
   ],
   "source": [
    "path=r'C:\\Users\\ajcho\\OneDrive\\Desktop\\full stack data science and AI\\DATA files\\emails.txt'\n",
    "data=open(path,\n",
    "         encoding='utf-8-sig').read()\n",
    "data.split(';')"
   ]
  },
  {
   "cell_type": "code",
   "execution_count": 23,
   "id": "e8c9adc8",
   "metadata": {},
   "outputs": [
    {
     "name": "stdout",
     "output_type": "stream",
     "text": [
      "Santhanam  Jayendhran  jayendhran.ms@accenture.com accenture\n"
     ]
    }
   ],
   "source": [
    "s1='Santhanam, Jayendhran <jayendhran.ms@accenture.com>'\n",
    "# 'santhanam'\n",
    "# 'Jayendhran'\n",
    "# 'Jayendhran.ms@accenture.com'\n",
    "# 'accenture'\n",
    "\n",
    "i1=s1.index(',')\n",
    "first=s1[0:i1]\n",
    "i2=s1.index('<')\n",
    "second=s1[i1+1:i2]\n",
    "i3=s1.index('>')\n",
    "third=s1[i2+1:i3]\n",
    "i4=s1.index('@')\n",
    "fourth=s1[i4+1:i3]\n",
    "i5=s1.index('.com')\n",
    "fifth=s1[i4+1:i5]\n",
    "print(first,second,third,fifth)"
   ]
  },
  {
   "cell_type": "code",
   "execution_count": 29,
   "id": "69cdcbc7",
   "metadata": {},
   "outputs": [
    {
     "name": "stdout",
     "output_type": "stream",
     "text": [
      "Santhanam  Jayendhran  jayendhran.ms@accenture.com accenture\n"
     ]
    }
   ],
   "source": [
    "s1='Santhanam, Jayendhran <jayendhran.ms@accenture.com>'\n",
    "# 'santhanam'\n",
    "# 'Jayendhran'\n",
    "# 'Jayendhran.ms@accenture.com'\n",
    "# 'accenture'\n",
    "\n",
    "\n",
    "i1=s1.index(',')\n",
    "first=s1[0:i1]\n",
    "i2=s1.index('<')\n",
    "second=s1[i1+1:i2]\n",
    "i3=s1.index('>')\n",
    "third=s1[i2+1:i3]\n",
    "i4=s1.index('@')\n",
    "fourth=s1[i4+1:i3-4]\n",
    "print(first,second,third,fourth)"
   ]
  },
  {
   "cell_type": "code",
   "execution_count": 34,
   "id": "bb9426d1",
   "metadata": {},
   "outputs": [
    {
     "name": "stdout",
     "output_type": "stream",
     "text": [
      "---------------------------------------------------------\n",
      "First name:Santhanam\n",
      "Second name: Jayendhran \n",
      "E-mail name:jayendhran.ms@accenture.com\n",
      "company name:accenture\n",
      "---------------------------------------------------------\n",
      "---------------------------------------------------------\n",
      "First name: Bhattacharjee\n",
      "Second name: Sankalan \n",
      "E-mail name:s.t.bhattacharjee@accenture.com\n",
      "company name:accenture\n",
      "---------------------------------------------------------\n",
      "---------------------------------------------------------\n",
      "First name: Bansal\n",
      "Second name: Vaishnavi \n",
      "E-mail name:vaishnavi.a.bansal@accenture.com\n",
      "company name:accenture\n",
      "---------------------------------------------------------\n",
      "---------------------------------------------------------\n",
      "First name: Chandra Shekhar\n",
      "Second name: Pavuluri \n",
      "E-mail name:p.a.chandra.shekhar@accenture.com\n",
      "company name:accenture\n",
      "---------------------------------------------------------\n",
      "---------------------------------------------------------\n",
      "First name: J Doshi\n",
      "Second name: Hiren \n",
      "E-mail name:hiren.j.doshi@accenture.com\n",
      "company name:accenture\n",
      "---------------------------------------------------------\n",
      "---------------------------------------------------------\n",
      "First name: Shimoga Prakash\n",
      "Second name: Jeevan \n",
      "E-mail name:j.shimoga.prakash@accenture.com\n",
      "company name:accenture\n",
      "---------------------------------------------------------\n",
      "---------------------------------------------------------\n",
      "First name: Akhouri\n",
      "Second name: Shreyash \n",
      "E-mail name:shreyash.akhouri@accenture.com\n",
      "company name:accenture\n",
      "---------------------------------------------------------\n",
      "---------------------------------------------------------\n",
      "First name: Nath\n",
      "Second name: Nupanga \n",
      "E-mail name:nupanga.nath@accenture.com\n",
      "company name:accenture\n",
      "---------------------------------------------------------\n",
      "---------------------------------------------------------\n",
      "First name: Ponna\n",
      "Second name: Ramesh \n",
      "E-mail name:r.ponna@accenture.com\n",
      "company name:accenture\n",
      "---------------------------------------------------------\n",
      "---------------------------------------------------------\n",
      "First name: Singhal\n",
      "Second name: Aditya \n",
      "E-mail name:aditya.d.singhal@accenture.com\n",
      "company name:accenture\n",
      "---------------------------------------------------------\n",
      "---------------------------------------------------------\n",
      "First name: Gorai\n",
      "Second name: Sumit \n",
      "E-mail name:sumit.gorai@accenture.com\n",
      "company name:accenture\n",
      "---------------------------------------------------------\n",
      "---------------------------------------------------------\n",
      "First name: Valdez\n",
      "Second name: Mariele Dyan Francely \n",
      "E-mail name:mariele.dyan.valdez@accenture.com\n",
      "company name:accenture\n",
      "---------------------------------------------------------\n",
      "---------------------------------------------------------\n",
      "First name: Cancel\n",
      "Second name: Abigail Kyle \n",
      "E-mail name:abigail.kyle.cancel@accenture.com\n",
      "company name:accenture\n",
      "---------------------------------------------------------\n",
      "---------------------------------------------------------\n",
      "First name: BONDALAKUNTA\n",
      "Second name: POOJITHA \n",
      "E-mail name:p.bondalakunta@accenture.com\n",
      "company name:accenture\n",
      "---------------------------------------------------------\n",
      "---------------------------------------------------------\n",
      "First name: priyanka uppala\n",
      "Second name: sai \n",
      "E-mail name:sai.priyanka.uppala@accenture.com\n",
      "company name:accenture\n",
      "---------------------------------------------------------\n",
      "---------------------------------------------------------\n",
      "First name: Nitin SHINDE\n",
      "Second name: NIKHIL \n",
      "E-mail name:nikhil.nitin.shinde@accenture.com\n",
      "company name:accenture\n",
      "---------------------------------------------------------\n",
      "---------------------------------------------------------\n",
      "First name: Chidre\n",
      "Second name: Swapna \n",
      "E-mail name:swapna.chidre@accenture.com\n",
      "company name:accenture\n",
      "---------------------------------------------------------\n",
      "---------------------------------------------------------\n",
      "First name: Sahu\n",
      "Second name: Swastik \n",
      "E-mail name:s.satyapragyan.sahu@accenture.com\n",
      "company name:accenture\n",
      "---------------------------------------------------------\n",
      "---------------------------------------------------------\n",
      "First name: Sikka\n",
      "Second name: Ankit \n",
      "E-mail name:ankit.sikka@accenture.com\n",
      "company name:accenture\n",
      "---------------------------------------------------------\n",
      "---------------------------------------------------------\n",
      "First name: Dara\n",
      "Second name: Sai Madhukar \n",
      "E-mail name:sai.madhukar.dara@accenture.com\n",
      "company name:accenture\n",
      "---------------------------------------------------------\n",
      "---------------------------------------------------------\n",
      "First name: Pattanshetti\n",
      "Second name: Sampreet \n",
      "E-mail name:s.pattanshetti@accenture.com\n",
      "company name:accenture\n",
      "---------------------------------------------------------\n",
      "---------------------------------------------------------\n",
      "First name: Sharma\n",
      "Second name: Ayush \n",
      "E-mail name:ayush.ad.sharma@accenture.com\n",
      "company name:accenture\n",
      "---------------------------------------------------------\n",
      "---------------------------------------------------------\n",
      "First name: Latorena\n",
      "Second name: Zairous Jay \n",
      "E-mail name:zairous.jay.latorena@accenture.com\n",
      "company name:accenture\n",
      "---------------------------------------------------------\n",
      "---------------------------------------------------------\n",
      "First name: Abhimanyu Pradhan\n",
      "Second name: Roshankumar \n",
      "E-mail name:r.abhimanyu.pradhan@accenture.com\n",
      "company name:accenture\n",
      "---------------------------------------------------------\n",
      "---------------------------------------------------------\n",
      "First name: Jaiswal\n",
      "Second name: Lehar \n",
      "E-mail name:lehar.jaiswal@accenture.com\n",
      "company name:accenture\n",
      "---------------------------------------------------------\n",
      "---------------------------------------------------------\n",
      "First name: Gupta\n",
      "Second name: Retik \n",
      "E-mail name:retik.gupta@accenture.com\n",
      "company name:accenture\n",
      "---------------------------------------------------------\n",
      "---------------------------------------------------------\n",
      "First name: Satti\n",
      "Second name: Phanindra Reddy \n",
      "E-mail name:phanindra.r.satti@accenture.com\n",
      "company name:accenture\n",
      "---------------------------------------------------------\n",
      "---------------------------------------------------------\n",
      "First name: Kumar\n",
      "Second name: Manish \n",
      "E-mail name:manish.dw.kumar@accenture.com\n",
      "company name:accenture\n",
      "---------------------------------------------------------\n",
      "---------------------------------------------------------\n",
      "First name: Balakrishnan\n",
      "Second name: Devi Priya \n",
      "E-mail name:devi.p.balakrishnan@accenture.com\n",
      "company name:accenture\n",
      "---------------------------------------------------------\n",
      "---------------------------------------------------------\n",
      "First name: M S\n",
      "Second name: Roshni Priya \n",
      "E-mail name:roshni.priya.m.s@accenture.com\n",
      "company name:accenture\n",
      "---------------------------------------------------------\n",
      "---------------------------------------------------------\n",
      "First name: Cheerala\n",
      "Second name: Vanaja \n",
      "E-mail name:vanaja.cheerala@accenture.com\n",
      "company name:accenture\n",
      "---------------------------------------------------------\n",
      "---------------------------------------------------------\n",
      "First name: G D\n",
      "Second name: Chandrashekhar \n",
      "E-mail name:chandrashekhar.g.d@accenture.com\n",
      "company name:accenture\n",
      "---------------------------------------------------------\n",
      "---------------------------------------------------------\n",
      "First name: Nikhil Reddy\n",
      "Second name: Madithati \n",
      "E-mail name:m.nikhil.reddy@accenture.com\n",
      "company name:accenture\n",
      "---------------------------------------------------------\n",
      "---------------------------------------------------------\n",
      "First name: Santos\n",
      "Second name: Jeroshelle V. \n",
      "E-mail name:jeroshelle.v.santos@accenture.com\n",
      "company name:accenture\n",
      "---------------------------------------------------------\n",
      "---------------------------------------------------------\n",
      "First name: Milan\n",
      "Second name: Gerald John \n",
      "E-mail name:gerald.john.milan@accenture.com\n",
      "company name:accenture\n",
      "---------------------------------------------------------\n",
      "---------------------------------------------------------\n",
      "First name: Gupta\n",
      "Second name: Vivek \n",
      "E-mail name:vivek.u.gupta@accenture.com\n",
      "company name:accenture\n",
      "---------------------------------------------------------\n",
      "---------------------------------------------------------\n",
      "First name: Mandal\n",
      "Second name: Sumit \n",
      "E-mail name:s.sunilkumar.mandal@accenture.com\n",
      "company name:accenture\n",
      "---------------------------------------------------------\n",
      "---------------------------------------------------------\n",
      "First name: Prakash Shukla\n",
      "Second name: Ashok \n",
      "E-mail name:ashok.prakash.shukla@accenture.com\n",
      "company name:accenture\n",
      "---------------------------------------------------------\n",
      "---------------------------------------------------------\n",
      "First name: Naganathan\n",
      "Second name: Siva \n",
      "E-mail name:sivakumar.naganathan@accenture.com\n",
      "company name:accenture\n",
      "---------------------------------------------------------\n",
      "---------------------------------------------------------\n",
      "First name: GAHLOT\n",
      "Second name: NIKHIL \n",
      "E-mail name:nikhil.gahlot@accenture.com\n",
      "company name:accenture\n",
      "---------------------------------------------------------\n",
      "---------------------------------------------------------\n",
      "First name: Kanjilal\n",
      "Second name: Sourav \n",
      "E-mail name:s.a.kanti.kanjilal@accenture.com\n",
      "company name:accenture\n",
      "---------------------------------------------------------\n",
      "---------------------------------------------------------\n",
      "First name: Nallagoni\n",
      "Second name: Omkar \n",
      "E-mail name:omkar.nallagoni@accenture.com\n",
      "company name:accenture\n",
      "---------------------------------------------------------\n",
      "---------------------------------------------------------\n",
      "First name: Sahajan\n",
      "Second name: Sandra \n",
      "E-mail name:sandra.sahajan@accenture.com\n",
      "company name:accenture\n",
      "---------------------------------------------------------\n",
      "---------------------------------------------------------\n",
      "First name: Nelluri\n",
      "Second name: Chaitanya \n",
      "E-mail name:chaitanya.nelluri@accenture.com\n",
      "company name:accenture\n",
      "---------------------------------------------------------\n"
     ]
    }
   ],
   "source": [
    "path=r'C:\\Users\\ajcho\\OneDrive\\Desktop\\full stack data science and AI\\DATA files\\emails.txt'\n",
    "data=open(path,\n",
    "         encoding='utf-8-sig').read()\n",
    "l1=data.split(';')\n",
    "for s1 in l1:\n",
    "    i1=s1.index(',')\n",
    "    first=s1[0:i1]\n",
    "    i2=s1.index('<')\n",
    "    second=s1[i1+1:i2]\n",
    "    i3=s1.index('>')\n",
    "    third=s1[i2+1:i3]\n",
    "    i4=s1.index('@')\n",
    "    fourth=s1[i4+1:i3-4]\n",
    "    print(\"---------------------------------------------------------\")\n",
    "    print(f\"First name:{first}\")\n",
    "    print(f\"Second name:{second}\")\n",
    "    print(f\"E-mail name:{third}\")\n",
    "    print(f\"company name:{fourth}\")\n",
    "    print(\"---------------------------------------------------------\")\n",
    "          "
   ]
  },
  {
   "cell_type": "code",
   "execution_count": null,
   "id": "2a8f1e8f",
   "metadata": {},
   "outputs": [],
   "source": []
  }
 ],
 "metadata": {
  "kernelspec": {
   "display_name": "Python 3 (ipykernel)",
   "language": "python",
   "name": "python3"
  },
  "language_info": {
   "codemirror_mode": {
    "name": "ipython",
    "version": 3
   },
   "file_extension": ".py",
   "mimetype": "text/x-python",
   "name": "python",
   "nbconvert_exporter": "python",
   "pygments_lexer": "ipython3",
   "version": "3.10.9"
  }
 },
 "nbformat": 4,
 "nbformat_minor": 5
}
