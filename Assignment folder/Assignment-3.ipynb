{
 "cells": [
  {
   "cell_type": "markdown",
   "id": "87f1b5d7",
   "metadata": {},
   "source": [
    "# 1. Ramesh’s basic salary is input through the keyboard. His dearness allowance is 40% of basic salary,and house rent allowance is 20% of basic salary. Write a program to calculate his gross salary."
   ]
  },
  {
   "cell_type": "code",
   "execution_count": 38,
   "id": "bb9b1cbf",
   "metadata": {},
   "outputs": [
    {
     "name": "stdout",
     "output_type": "stream",
     "text": [
      "enter the salary ramesh:1000\n",
      "dearness allowness in %:40\n",
      "rent allowance in %:20\n",
      "total salary= 1000 \n",
      " gross salary= 400.0\n"
     ]
    }
   ],
   "source": [
    "try:\n",
    "    salary=eval(input(\"enter the salary ramesh:\"))\n",
    "    dearness=eval(input(\"dearness allowness in %:\"))\n",
    "    rent=eval(input(\"rent allowance in %:\"))\n",
    "    dear_all=(salary*40)/100\n",
    "    rent_all=(salary*20)/100\n",
    "    grs_sal=salary-(dear_all+rent_all)\n",
    "    print(f\"total salary= {salary} \\n gross salary= {grs_sal}\")\n",
    "except exception as e:\n",
    "    print(e)"
   ]
  },
  {
   "cell_type": "markdown",
   "id": "5817d796",
   "metadata": {},
   "source": [
    "# 2. The distance between two cities (in km.) is input through the keyboard. Write a program to convert and print this distance in meters, feet, inches and centimeters."
   ]
  },
  {
   "cell_type": "code",
   "execution_count": 3,
   "id": "2ea022a9",
   "metadata": {},
   "outputs": [
    {
     "name": "stdout",
     "output_type": "stream",
     "text": [
      "enter distance in km:5\n",
      "In KM 5 \n",
      "In Meters 5000 \n",
      "In Feet 16404.1995 \n",
      "In Inches 196850.3935 \n",
      "In Centimeters 500000\n"
     ]
    }
   ],
   "source": [
    "try:\n",
    "    distance=eval(input(\"enter distance in km:\"))\n",
    "    mtr=distance*1000\n",
    "    fts=distance*3280.8399\n",
    "    inch=distance*39370.0787\n",
    "    cm=distance*100000\n",
    "    print(f\"In KM {distance} \\nIn Meters {mtr} \\nIn Feet {fts} \\nIn Inches {inch} \\nIn Centimeters {cm}\")\n",
    "except exception as e:\n",
    "    print(e)"
   ]
  },
  {
   "cell_type": "markdown",
   "id": "4b375d34",
   "metadata": {},
   "source": [
    "# 3. If the marks obtained by a student in five different subjects are input through the keyboard, find out the aggregate marks and percentage marks obtained by the student. Assume that the maximummarks that can be obtained by a student in each subject is 100."
   ]
  },
  {
   "cell_type": "code",
   "execution_count": 4,
   "id": "cfbda94f",
   "metadata": {},
   "outputs": [
    {
     "name": "stdout",
     "output_type": "stream",
     "text": [
      "enter the marks of maths:90\n",
      "enter the marks of science:90\n",
      "enter the marks of english:90\n",
      "enter the marks of hindi:90\n",
      "enter the marks of social90\n",
      "aggregate marks=450 \n",
      "percentage=90.0\n"
     ]
    }
   ],
   "source": [
    "try:    \n",
    "    a=eval(input(\"enter the marks of maths:\"))\n",
    "    b=eval(input(\"enter the marks of science:\"))\n",
    "    c=eval(input(\"enter the marks of english:\"))\n",
    "    d=eval(input(\"enter the marks of hindi:\"))\n",
    "    e=eval(input(\"enter the marks of social\"))\n",
    "    agg=a+b+c+d+e\n",
    "    per=(agg*100)/500\n",
    "    print(f\"aggregate marks={agg} \\npercentage={per}\")\n",
    "except exception as e:\n",
    "    print(e)"
   ]
  },
  {
   "cell_type": "markdown",
   "id": "545870be",
   "metadata": {},
   "source": [
    "# 4. Temperature of a city in Fahrenheit degrees is input through the keyboard. Write a program to convert this temperature into Centigrade degrees."
   ]
  },
  {
   "cell_type": "code",
   "execution_count": 8,
   "id": "91da6777",
   "metadata": {},
   "outputs": [
    {
     "name": "stdout",
     "output_type": "stream",
     "text": [
      "enter the temp in fahrenheit:1\n",
      " fahrenheit= 1 \n",
      "centigrade= -17.22222222222222\n"
     ]
    }
   ],
   "source": [
    "try:\n",
    "    a=eval(input(\"enter the temp in fahrenheit:\"))\n",
    "    b=(a-32)*5/9\n",
    "    print(f\" fahrenheit= {a} \\ncentigrade= {b}\")\n",
    "except exception as e:\n",
    "    print(e)"
   ]
  },
  {
   "cell_type": "markdown",
   "id": "ed77e415",
   "metadata": {},
   "source": [
    "# 5. The length &amp; breadth of a rectangle and radius of a circle are input through the keyboard. Write a program to calculate the area &amp; perimeter of the rectangle, and the area &amp; circumference of the circle."
   ]
  },
  {
   "cell_type": "code",
   "execution_count": 9,
   "id": "0b96dfaa",
   "metadata": {},
   "outputs": [
    {
     "name": "stdout",
     "output_type": "stream",
     "text": [
      "enter the length:4\n",
      "enter the breadth:3\n",
      "enter the radius:5\n",
      "area of rectangle=12 \n",
      "peremeter of rectangle=14 \n",
      " area of circle=15.700000000000001 circumference of circle=31.400000000000002\n"
     ]
    }
   ],
   "source": [
    "try:\n",
    "    a=eval(input(\"enter the length:\"))\n",
    "    b=eval(input(\"enter the breadth:\"))\n",
    "    area_of_rec=a*b\n",
    "    per_of_rec=2*(a+b)\n",
    "    c=eval(input(\"enter the radius:\"))\n",
    "    area_of_cir=c*3.14\n",
    "    cir_of_cir=2*3.14*c\n",
    "    print(f\"area of rectangle={area_of_rec} \\nperemeter of rectangle={per_of_rec} \\n area of circle={area_of_cir} circumference of circle={cir_of_cir}\")\n",
    "except exception as e:\n",
    "    print(e)"
   ]
  },
  {
   "cell_type": "markdown",
   "id": "b6780179",
   "metadata": {},
   "source": [
    "# 6. Two numbers are input through the keyboard into two locations C and D. Write a program to interchange the contents of C and D."
   ]
  },
  {
   "cell_type": "code",
   "execution_count": 10,
   "id": "7962161f",
   "metadata": {},
   "outputs": [
    {
     "name": "stdout",
     "output_type": "stream",
     "text": [
      "the value of c=10 the value of d=20\n",
      "after swap c value=20 after swap d value=10\n"
     ]
    }
   ],
   "source": [
    "try:\n",
    "    c=10\n",
    "    d=20\n",
    "    print(f\"the value of c={c} the value of d={d}\")\n",
    "    c,d=d,c\n",
    "    print(f\"after swap c value={c} after swap d value={d}\")\n",
    "except exception as e:\n",
    "    print(e)"
   ]
  },
  {
   "cell_type": "markdown",
   "id": "35afe13c",
   "metadata": {},
   "source": [
    "# 7. If a five-digit number is input through the keyboard, write a program to reverse the number."
   ]
  },
  {
   "cell_type": "code",
   "execution_count": 23,
   "id": "4bb5dc04",
   "metadata": {},
   "outputs": [
    {
     "name": "stdout",
     "output_type": "stream",
     "text": [
      "enter a five digit number u want to reverse:12345\n",
      "the reverse of 12345 is 54321\n"
     ]
    }
   ],
   "source": [
    "try:\n",
    "    num=eval(input(\"enter a five digit number u want to reverse:\"))\n",
    "    dig1=num%10\n",
    "    new_num1=num//10\n",
    "    dig2=new_num1%10\n",
    "    new_num2=new_num1//10\n",
    "    dig3=new_num2%10\n",
    "    new_num3=new_num2//10\n",
    "    dig4=new_num3%10\n",
    "    new_num4=new_num3//10\n",
    "    dig5=new_num4%10\n",
    "    print(f\"the reverse of {num} is {dig1}{dig2}{dig3}{dig4}{dig5}\")\n",
    "except exception as e:\n",
    "    print(e)\n",
    "    \n",
    "    "
   ]
  },
  {
   "cell_type": "markdown",
   "id": "082347b6",
   "metadata": {},
   "source": [
    "8. If a four-digit number is input through the keyboard, write a program to obtain the sum of the first and\n",
    "last digit of this number.\n"
   ]
  },
  {
   "cell_type": "code",
   "execution_count": 14,
   "id": "4c196702",
   "metadata": {
    "scrolled": true
   },
   "outputs": [
    {
     "name": "stdout",
     "output_type": "stream",
     "text": [
      "Enter a four-digit number: 1234\n",
      "the sum of first and last digit is5\n"
     ]
    }
   ],
   "source": [
    "try:\n",
    "    num=eval(input(\"Enter a four-digit number: \"))\n",
    "    dig1=num%10\n",
    "    new_num1=num//10\n",
    "    dig2=new_num1%10\n",
    "    new_num2=new_num1//10\n",
    "    dig3=new_num2%10\n",
    "    new_num3=new_num2//10\n",
    "    dig4=new_num3%10\n",
    "    print(f\"the sum of first and last digit is={dig1+dig4}\")\n",
    "except exception as e:\n",
    "    print(e)\n",
    "    "
   ]
  },
  {
   "cell_type": "markdown",
   "id": "59f0e112",
   "metadata": {},
   "source": [
    "9. In a town, the percentage of men is 52. The percentage of total literacy is 48. If total percentage of\n",
    "literate men is 35 of the total population, write a program to find the total number of illiterate men\n",
    "and women if the population of the town is 80,000.\n"
   ]
  },
  {
   "cell_type": "code",
   "execution_count": 45,
   "id": "97bf4c9d",
   "metadata": {},
   "outputs": [
    {
     "name": "stdout",
     "output_type": "stream",
     "text": [
      "total illitrate mens=13600.0 \n",
      "total illitrate womens=28000.0\n"
     ]
    }
   ],
   "source": [
    "try:\n",
    "    men=(80000*52)/100\n",
    "    ttl_lit=(80000*48)/100\n",
    "    ttl_lit_men=(80000*35)/100\n",
    "    ttl_lit_wmen=ttl_lit-ttl_lit_men\n",
    "    ttl_ilit_wmen=ttl_lit-ttl_lit_wmen\n",
    "    ttl_ilit_men=men-ttl_lit_men\n",
    "    print(f\"total illitrate mens={ttl_ilit_men} \\ntotal illitrate womens={ttl_ilit_wmen}\")\n",
    "except exception as e:\n",
    "    print(e)"
   ]
  },
  {
   "cell_type": "markdown",
   "id": "9bbe36af",
   "metadata": {},
   "source": [
    "10. A cashier has currency notes of denominations 10, 50 and 100. If the amount to be withdrawn is\n",
    "input through the keyboard in hundreds, find the total number of currency notes of each\n",
    "denomination the cashier will have to give to the withdrawer."
   ]
  },
  {
   "cell_type": "code",
   "execution_count": 42,
   "id": "545924f8",
   "metadata": {},
   "outputs": [
    {
     "name": "stdout",
     "output_type": "stream",
     "text": [
      "enter the amount in hundreds500\n",
      "in 10s=50.0 \n",
      "in 50s=10.0 \n",
      "in 100s=5.0\n"
     ]
    }
   ],
   "source": [
    "try:\n",
    "    a=eval(input(\"enter the amount in hundreds\"))\n",
    "    b=a/10\n",
    "    c=a/50\n",
    "    d=a/100\n",
    "    print(f\"in 10s={b} \\nin 50s={c} \\nin 100s={d}\")\n",
    "except exception as e:\n",
    "    print(e)\n"
   ]
  },
  {
   "cell_type": "code",
   "execution_count": null,
   "id": "c981800f",
   "metadata": {},
   "outputs": [],
   "source": []
  }
 ],
 "metadata": {
  "kernelspec": {
   "display_name": "Python 3 (ipykernel)",
   "language": "python",
   "name": "python3"
  },
  "language_info": {
   "codemirror_mode": {
    "name": "ipython",
    "version": 3
   },
   "file_extension": ".py",
   "mimetype": "text/x-python",
   "name": "python",
   "nbconvert_exporter": "python",
   "pygments_lexer": "ipython3",
   "version": "3.10.9"
  }
 },
 "nbformat": 4,
 "nbformat_minor": 5
}
