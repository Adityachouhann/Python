{
 "cells": [
  {
   "cell_type": "code",
   "execution_count": null,
   "id": "619476f5",
   "metadata": {},
   "outputs": [],
   "source": []
  },
  {
   "cell_type": "code",
   "execution_count": null,
   "id": "1b464f03",
   "metadata": {},
   "outputs": [],
   "source": [
    "# 1. Ask the user to enter a number. Print out the square of the number,Sample output is shown below.\n",
    "\n",
    "Enter a\n",
    "number: 5 The\n",
    "square of 5 is 25.\n",
    "\n",
    "a=eval(input(\"enter a number:\"))\n",
    "b=a*a\n",
    "print(f\"square of {a} is {b}\")"
   ]
  },
  {
   "cell_type": "code",
   "execution_count": 2,
   "id": "cf15d270",
   "metadata": {},
   "outputs": [
    {
     "name": "stdout",
     "output_type": "stream",
     "text": [
      "enter a number:5\n",
      "5--10--15--20--25\n"
     ]
    }
   ],
   "source": [
    "# 2. Ask the user to enter a number x. print out x, 2x, 3x, 4x, and 5x,each separated by three dashes, like below.\n",
    "#Enter a number: 7      7---14---21---28---35\n",
    "\n",
    "a=eval(input(\"enter a number:\"))\n",
    "b=a+a\n",
    "c=b+a\n",
    "d=c+a\n",
    "e=d+a\n",
    "f=e+a\n",
    "print(f\"{a}--{b}--{c}--{d}--{e}\")"
   ]
  },
  {
   "cell_type": "code",
   "execution_count": 5,
   "id": "6f9fe143",
   "metadata": {},
   "outputs": [
    {
     "name": "stdout",
     "output_type": "stream",
     "text": [
      "enter the weight in kg:5\n",
      "In Kg 5 \n",
      "In Pounds 11.0\n"
     ]
    }
   ],
   "source": [
    "#3. Write a program that asks the user for a weight in kilograms and converts it to pounds. There are 2.2 pounds in a kilogram.\n",
    "weight=eval(input(\"enter the weight in kg:\"))\n",
    "pound=weight*2.2\n",
    "print(f\"In Kg {weight} \\nIn Pounds {pound}\")"
   ]
  },
  {
   "cell_type": "code",
   "execution_count": 3,
   "id": "1582d57d",
   "metadata": {},
   "outputs": [
    {
     "name": "stdout",
     "output_type": "stream",
     "text": [
      "enter first number:10\n",
      "enter second number:20\n",
      "enter third number:30\n",
      "first num = 10 second num = 20 third num = 30 sum = 60 average = 20.0\n"
     ]
    }
   ],
   "source": [
    "#4. Write a program that asks the user to enter three numbers (use threeseparate input statements).Create variables called total and average that hold the sum and average of the three numbers and print out the values of total and average.\n",
    "a=eval(input(\"enter first number:\"))\n",
    "b=eval(input(\"enter second number:\"))\n",
    "c=eval(input(\"enter third number:\"))\n",
    "total=a+b+c\n",
    "average=total/3\n",
    "print(f\"first num = {a} second num = {b} third num = {c} sum = {total} average = {average}\")"
   ]
  },
  {
   "cell_type": "code",
   "execution_count": 13,
   "id": "184e41e6",
   "metadata": {},
   "outputs": [
    {
     "name": "stdout",
     "output_type": "stream",
     "text": [
      "enter the bill amount1000\n",
      "enter the tip in %10\n",
      "tip amount 100.0 \n",
      "total bill after tip 1100.0\n"
     ]
    }
   ],
   "source": [
    "#5. A lot of cell phones have tip calculators. Write one. Ask the user for the price of the meal and the percent tip they want to leave. Thenprint both the tip amount and the total bill with the tip included.\n",
    "bill=eval(input(\"enter the bill amount\"))\n",
    "tip_per=eval(input(\"enter the tip in %\"))\n",
    "tip_amt=(bill*tip_per)/100\n",
    "ttl_bill=bill+tip_amt\n",
    "print(f\"tip amount {tip_amt} \\ntotal bill after tip {ttl_bill}\")"
   ]
  },
  {
   "cell_type": "markdown",
   "id": "c878783a",
   "metadata": {},
   "source": [
    "# 6. Let’s create a story between Father and daughter , You need to\n",
    "    create a story by using print and input keywords\n",
    "    You need to develop a python code same like below steps\n",
    "    The goal of this code is to understand python is step by step\n",
    "    process\n",
    "    Step-1: Father: Hey Baby!\n",
    "    Step-2: Daughter: Hello Dady\n",
    "    Step-3: Father: I heard your exams are over, what about result\n",
    "    Step-4: Daughter: Yes dad! Results are out.\n",
    "    Step-5: Father: what is the percentage?\n",
    "    Step-6: Daughter: I will give my subject wise marks , you tell me the\n",
    "    percentage\n",
    "    Step-7: Father : Okay!\n",
    "    Step-8: First Language: 80\n",
    "    Step-9: Second language: 90\n",
    "\n",
    "    Step-10: Third language:90\n",
    "    Step-11: Maths:85\n",
    "    Step-12: Science: 80\n",
    "    Step-13: Daughter: Dad Now tell me how much percentage I got\n",
    "    Step-14: Father: Tell me the max marks of each subject\n",
    "    Step-15: Daughter: its 100\n",
    "    Step-16: calculate the percentage of marks and print it"
   ]
  },
  {
   "cell_type": "code",
   "execution_count": 16,
   "id": "6e8a777e",
   "metadata": {},
   "outputs": [
    {
     "name": "stdout",
     "output_type": "stream",
     "text": [
      "Father:Hey Baby!\n",
      "Daughter:Hello Daddy\n",
      "Father:I heard your exams are over, what about result\n",
      "Daughter:Yes dad! Results are out.\n",
      "Father:what is the percentage?\n",
      "Daughter:I will give my subject wise marks , you tell me the percentage\n",
      "Father:Okay!\n",
      "First language:80\n",
      "Second language:90\n",
      "Third language:90\n",
      "Maths:85\n",
      "Science80\n",
      "Daughter:Dad Now tell me how much percentage I got\n",
      "Father:Tell me the max marks of each subject\n",
      "Daughter:its 100\n",
      "total marks 260 \n",
      "total percentage 86.66666666666667\n"
     ]
    }
   ],
   "source": [
    "input(\"Father:\")\n",
    "input(\"Daughter:\")\n",
    "input(\"Father:\")\n",
    "input(\"Daughter:\")\n",
    "input(\"Father:\")\n",
    "input(\"Daughter:\")\n",
    "input(\"Father:\")\n",
    "l1=eval(input(\"First language:\"))\n",
    "l2=eval(input(\"Second language:\"))\n",
    "l3=eval(input(\"Third language:\"))\n",
    "m=eval(input(\"Maths:\"))\n",
    "sci=eval(input(\"Science\"))\n",
    "input(\"Daughter:\")\n",
    "input(\"Father:\")\n",
    "input(\"Daughter:\")\n",
    "total_marks=l1+l2+l3\n",
    "total_per=(total_marks*100)/300\n",
    "print(f\"total marks {total_marks} \\ntotal percentage {total_per}\")"
   ]
  }
 ],
 "metadata": {
  "kernelspec": {
   "display_name": "Python 3 (ipykernel)",
   "language": "python",
   "name": "python3"
  },
  "language_info": {
   "codemirror_mode": {
    "name": "ipython",
    "version": 3
   },
   "file_extension": ".py",
   "mimetype": "text/x-python",
   "name": "python",
   "nbconvert_exporter": "python",
   "pygments_lexer": "ipython3",
   "version": "3.10.9"
  }
 },
 "nbformat": 4,
 "nbformat_minor": 5
}
