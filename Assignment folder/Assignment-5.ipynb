{
 "cells": [
  {
   "cell_type": "markdown",
   "id": "574b57f2",
   "metadata": {},
   "source": [
    "1. Write a program that asks the user to enter a string. The program should then print the following:\n",
    "\n",
    "(a) The total number of characters in the string\n",
    "\n",
    "(b) The string repeated 10 times\n",
    "\n",
    "(c) The first character of the string (remember that string indices start at 0) \n",
    "\n",
    "(d) The first three characters of the string\n",
    " \n",
    "(e) The last three characters of the string\n",
    "\n",
    "(f) The string backwards\n",
    "\n",
    "(g) The seventh character of the string if the string is long enough and a message otherwise\n",
    "\n",
    "(h) The string with its first and last characters removed\n",
    "\n",
    "(i) The string in all caps\n",
    "\n",
    "(j) The string with every a replaced with an e"
   ]
  },
  {
   "cell_type": "code",
   "execution_count": 48,
   "id": "65d7cfba",
   "metadata": {},
   "outputs": [
    {
     "name": "stdout",
     "output_type": "stream",
     "text": [
      "Enter a string : Aditya\n",
      "1.The total number of characters in the string = 6\n",
      "2.String repeating 10 times = ('Aditya', 'Aditya', 'Aditya', 'Aditya', 'Aditya', 'Aditya', 'Aditya', 'Aditya', 'Aditya', 'Aditya'),\n",
      "3.The first character of string = A\n",
      "4.The first three character of string = Adi\n",
      "5.The last three characters of string = tya\n",
      "6.The string backwards = aytidA\n",
      "7.String is less than 7 characters\n",
      "8.The string with its first and last characters removed = dity\n",
      "9.The string in all caps = ADITYA\n",
      "10.The string with a to e = Aditye\n"
     ]
    }
   ],
   "source": [
    "string=input(\"Enter a string : \")\n",
    "print(f\"1.The total number of characters in the string = {len(string)}\")\n",
    "print(f\"2.String repeating 10 times = {10*(string,)},\")\n",
    "print(f\"3.The first character of string = {string[0]}\")\n",
    "print(f\"4.The first three character of string = {string[0:3]}\")\n",
    "print(f\"5.The last three characters of string = {string[-3:]}\")\n",
    "print(f\"6.The string backwards = {string[::-1]}\")\n",
    "if len(string)>=7:\n",
    "    print(f\"7.The string = {string[6]}\")\n",
    "else:\n",
    "    print(\"7.String is less than 7 characters\")\n",
    "print(f\"8.The string with its first and last characters removed = {string[1:-1]}\")\n",
    "print(f\"9.The string in all caps = {string.upper()}\")\n",
    "if 'a' in string:\n",
    "    print(f\"10.The string with a to e = {string.replace('a','e')}\")"
   ]
  },
  {
   "cell_type": "markdown",
   "id": "b7a4b949",
   "metadata": {},
   "source": [
    "2. A simple way to estimate the number of words in a string is to count the number of spaces in the\n",
    "   string. Write a program that asks the user for a string and returns an estimate of how many words\n",
    "   are in the string.\n",
    "\n",
    "Tip: You need to count the number of words using spaces"
   ]
  },
  {
   "cell_type": "code",
   "execution_count": 238,
   "id": "ddcc391a",
   "metadata": {},
   "outputs": [
    {
     "name": "stdout",
     "output_type": "stream",
     "text": [
      "Enter a string : Aditya chouhan\n",
      "1\n"
     ]
    }
   ],
   "source": [
    "a=input(\"Enter a string : \")\n",
    "count=0\n",
    "for i in range(len(a)):\n",
    "    if a[i] ==' ':\n",
    "        count=count+1\n",
    "print(count)"
   ]
  },
  {
   "cell_type": "markdown",
   "id": "071adb0d",
   "metadata": {},
   "source": [
    "3.Write a program that asks the user to enter a word and prints out whether that word contains any\n",
    "vowels."
   ]
  },
  {
   "cell_type": "code",
   "execution_count": 84,
   "id": "73ffda5a",
   "metadata": {},
   "outputs": [
    {
     "name": "stdout",
     "output_type": "stream",
     "text": [
      "Enter a word : Aditya\n",
      "yes\n"
     ]
    }
   ],
   "source": [
    "b=input(\"Enter a word : \")\n",
    "if b[i] in 'aeiou':\n",
    "    print(\"yes\")\n",
    "else:\n",
    "    print(\"no\")"
   ]
  },
  {
   "cell_type": "markdown",
   "id": "89c03025",
   "metadata": {},
   "source": [
    "4. Improvise above code by providing unique vowels"
   ]
  },
  {
   "cell_type": "code",
   "execution_count": 93,
   "id": "715af680",
   "metadata": {},
   "outputs": [
    {
     "name": "stdout",
     "output_type": "stream",
     "text": [
      "Enter a word : aditya\n",
      "The unique vowels are = a\n",
      "The unique vowels are = i\n",
      "The unique vowels are = a\n"
     ]
    }
   ],
   "source": [
    "c=input(\"Enter a word : \")\n",
    "\n",
    "for i in range(len(c)): \n",
    "    if c[i] in 'aeiou':\n",
    "        print(f\"The unique vowels are = {c[i]}\")"
   ]
  },
  {
   "cell_type": "markdown",
   "id": "876b5a0f",
   "metadata": {},
   "source": [
    "5. Write a program that asks the user to enter a string. The program should create a new string\n",
    " called new_string from the user’s string such that the second character is changed to an asterisk and\n",
    " three exclamation points are attached to the end of the string. Finally, print new_string.\n",
    "\n",
    "Typical output is shown below:\n",
    "\n",
    "Enter your string: Qbert\n",
    "\n",
    "Output: Q*ert!!!"
   ]
  },
  {
   "cell_type": "code",
   "execution_count": 94,
   "id": "282c8a39",
   "metadata": {},
   "outputs": [
    {
     "name": "stdout",
     "output_type": "stream",
     "text": [
      "Enter a string : Qbert\n"
     ]
    },
    {
     "data": {
      "text/plain": [
       "'Q*ert!!!'"
      ]
     },
     "execution_count": 94,
     "metadata": {},
     "output_type": "execute_result"
    }
   ],
   "source": [
    "a1=input(\"Enter a string : \")\n",
    "a2='!!!'\n",
    "a1=a1.replace('b','*')\n",
    "new_string=a1+a2\n",
    "new_string"
   ]
  },
  {
   "cell_type": "markdown",
   "id": "e5097c7e",
   "metadata": {},
   "source": [
    "6. Write a program that asks the user to enter a word and determines whether the word is a\n",
    "   palindrome or not. A palindrome is a word that reads the same backwards as forwards"
   ]
  },
  {
   "cell_type": "code",
   "execution_count": 98,
   "id": "4144d2df",
   "metadata": {},
   "outputs": [
    {
     "name": "stdout",
     "output_type": "stream",
     "text": [
      "Enter a word : naman\n",
      "palindrome\n"
     ]
    }
   ],
   "source": [
    "palindrome=input(\"Enter a word : \")\n",
    "if palindrome[::]==palindrome[::-1]:\n",
    "    print(\"palindrome\")\n",
    "else:\n",
    "    print(\"Not a Palindrome\")"
   ]
  },
  {
   "cell_type": "code",
   "execution_count": 103,
   "id": "a1960d7f",
   "metadata": {},
   "outputs": [
    {
     "name": "stdout",
     "output_type": "stream",
     "text": [
      "enter a word : amma\n",
      "Palindrome\n"
     ]
    }
   ],
   "source": [
    "s1=input(\"enter a word : \")\n",
    "s2=''\n",
    "for i in reversed(s1):\n",
    "    s2=s2+i\n",
    "if s1==s2:\n",
    "    print(\"Palindrome\")\n",
    "else:\n",
    "    print(\"Not a Palindrome\")"
   ]
  },
  {
   "cell_type": "markdown",
   "id": "b9068e21",
   "metadata": {},
   "source": [
    "7. At a certain school, student email addresses end with @student.college.edu, while professor\n",
    " email addresses end with @prof.college.edu. Write a program that first asks the user how many\n",
    " email addresses they will be entering, and then has the user enter those addresses. After all the\n",
    " email addresses are entered, the program should print out a message indicating either that all the\n",
    " addresses are student addresses or that there were some professor addresses entered."
   ]
  },
  {
   "cell_type": "code",
   "execution_count": 169,
   "id": "41530dc1",
   "metadata": {},
   "outputs": [
    {
     "name": "stdout",
     "output_type": "stream",
     "text": [
      "Enter how many emails you want : 2\n",
      "Enter the emailadi@student.college.edu\n",
      "Enter the emailsam@student.college.edu\n",
      "Only student emails were entered\n"
     ]
    }
   ],
   "source": [
    "how=eval(input(\"Enter how many emails you want : \"))\n",
    "st_email=\"\"\n",
    "for i in range(how):\n",
    "    email=input(\"Enter the email\")\n",
    "    for i in email:\n",
    "        if 'student' in email:\n",
    "            st_email=st_email+i\n",
    "if st_email.count('student')==how:\n",
    "    print(\"Only student emails were entered\")\n",
    "else:\n",
    "    print(\"Professor emails also entered\")"
   ]
  },
  {
   "cell_type": "code",
   "execution_count": 133,
   "id": "b94d5450",
   "metadata": {},
   "outputs": [
    {
     "name": "stdout",
     "output_type": "stream",
     "text": [
      "enter emailasd\n",
      "asd@student.college.edu\n"
     ]
    }
   ],
   "source": [
    "email=input(\"enter email\")\n",
    "#std_email='@student.college.edu'\n",
    "print(email+std_email)\n",
    "#new_email=email+std_email\n",
    "#new_email=email+'asd'\n",
    "#new_email"
   ]
  },
  {
   "cell_type": "markdown",
   "id": "09c60fd6",
   "metadata": {},
   "source": [
    "8. Write a program that asks the user to enter a string, then prints out each letter of the string\n",
    "  doubled and on a separate line. For instance,\n",
    "\n",
    "if the user entered HEY,\n",
    "\n",
    "the output would be\n",
    "\n",
    "HH\n",
    "\n",
    "EE\n",
    "\n",
    "YY"
   ]
  },
  {
   "cell_type": "code",
   "execution_count": 147,
   "id": "2f7e28b5",
   "metadata": {},
   "outputs": [
    {
     "name": "stdout",
     "output_type": "stream",
     "text": [
      "Enter a string : HEY\n",
      "HH\n",
      "EE\n",
      "YY\n"
     ]
    }
   ],
   "source": [
    "q=input(\"Enter a string : \")\n",
    "for i in range(len(q)):\n",
    "    print(2*q[i])"
   ]
  },
  {
   "cell_type": "markdown",
   "id": "f56eb352",
   "metadata": {},
   "source": [
    "9.Write a program that asks the user to enter a word that contains the letter a. The program should\n",
    " then print the following two lines: On the first line should be the part of the string up to and\n",
    " including the the first a, and on the second line should be the rest of the string.\n",
    "\n",
    "Sample output is shown below:\n",
    "\n",
    "\n",
    "Enter a word: buffalo\n",
    "\n",
    "buffa\n",
    "\n",
    "lo"
   ]
  },
  {
   "cell_type": "code",
   "execution_count": 166,
   "id": "116985ed",
   "metadata": {},
   "outputs": [
    {
     "name": "stdout",
     "output_type": "stream",
     "text": [
      "Enter a word : buffalo\n",
      "buffa\n",
      "lo\n"
     ]
    }
   ],
   "source": [
    "a=input(\"Enter a word : \")\n",
    "n=a.find('a')\n",
    "n1=a[:n+1]\n",
    "n2=a[n+1:]\n",
    "print(n1)\n",
    "print(n2)"
   ]
  },
  {
   "cell_type": "markdown",
   "id": "e5ef16ef",
   "metadata": {},
   "source": [
    "10. Write a program that asks the user to enter a word and then capitalizes every other letter of that\n",
    " word.\n",
    "\n",
    "So if the user enters rhinoceros,\n",
    "\n",
    "the program should print rHiNoCeRoS."
   ]
  },
  {
   "cell_type": "code",
   "execution_count": 60,
   "id": "5114d403",
   "metadata": {},
   "outputs": [
    {
     "name": "stdout",
     "output_type": "stream",
     "text": [
      "Enter a word : rhinoceros\n",
      "rHiNoCeRoS\n"
     ]
    }
   ],
   "source": [
    "a=input(\"Enter a word : \")\n",
    "b=''\n",
    "for i in range(len(a)):\n",
    "    if i%2!=0:\n",
    "        b=b+a[i].upper()\n",
    "    else:\n",
    "        b=b+a[i].lower()\n",
    "print(b)        \n",
    "    \n",
    "    "
   ]
  },
  {
   "cell_type": "markdown",
   "id": "a031b739",
   "metadata": {},
   "source": [
    "11. Write a program that asks the user to enter two strings of the same length. The program should\n",
    " then check to see if the strings are of the same length. If they are not, the program should print an\n",
    " appropriate message and exit. If they are of the same length, the program should alternate the\n",
    " characters of the two strings. For example,\n",
    "\n",
    "if the user enters abcde and ABCDE\n",
    "\n",
    "the program should print out AaBbCcDdEe."
   ]
  },
  {
   "cell_type": "code",
   "execution_count": 2,
   "id": "28d82cfd",
   "metadata": {},
   "outputs": [
    {
     "name": "stdout",
     "output_type": "stream",
     "text": [
      "Enter the first string : abcde\n",
      "Enter the second string : ABCDE\n",
      "AaBbCcDdEe\n"
     ]
    }
   ],
   "source": [
    "a=input(\"Enter the first string : \")\n",
    "b=input(\"Enter the second string : \")\n",
    "c=\"\"\n",
    "for i in range(len(a)):\n",
    "    if a.casefold()!=b.casefold():\n",
    "        print(\"STRINGS NOT SAME\")\n",
    "    else:\n",
    "        if i%2!=0: \n",
    "            c=c+a[i].upper()\n",
    "            c=c+b[i].lower()\n",
    "        else:\n",
    "            c=c+a[i].upper()\n",
    "            c=c+b[i].lower()\n",
    "print(c)        \n",
    "\n",
    "        \n",
    "        "
   ]
  },
  {
   "cell_type": "code",
   "execution_count": 86,
   "id": "8c35e728",
   "metadata": {},
   "outputs": [
    {
     "name": "stdout",
     "output_type": "stream",
     "text": [
      "Enter a word : abcde\n",
      "Enter a word : ABCDE\n",
      "AaBbCcDdEe\n"
     ]
    }
   ],
   "source": [
    "a=input(\"Enter a word : \")\n",
    "b=input(\"Enter a word : \")\n",
    "c=\"\"\n",
    "if a.casefold()!=b.casefold():\n",
    "    print(\"STRINGS NOT SAME\")\n",
    "else:\n",
    "    #for i in range(len(a)):\n",
    "    if len(a)==len(b):\n",
    "        for i in range(len(a)):\n",
    "            c=c+b[i]\n",
    "            c=c+a[i]\n",
    "                \n",
    "\n",
    "print(c)        \n"
   ]
  },
  {
   "cell_type": "markdown",
   "id": "ebfa7439",
   "metadata": {},
   "source": [
    "12. Write a program that asks the user to enter their name in lowercase and then capitalizes the first\n",
    "    letter of each word of their name."
   ]
  },
  {
   "cell_type": "code",
   "execution_count": 22,
   "id": "0db09958",
   "metadata": {},
   "outputs": [
    {
     "name": "stdout",
     "output_type": "stream",
     "text": [
      "Enter your name : aditya singh chouhan\n",
      "Aditya Singh Chouhan\n"
     ]
    }
   ],
   "source": [
    "a=input(\"Enter your name : \")\n",
    "for i in a:\n",
    "    a.title()\n",
    "print(a.title())    "
   ]
  },
  {
   "cell_type": "code",
   "execution_count": 35,
   "id": "5515b6e9",
   "metadata": {},
   "outputs": [
    {
     "name": "stdout",
     "output_type": "stream",
     "text": [
      "['Aditya', 'Singh', 'Chouhan']\n"
     ]
    }
   ],
   "source": [
    "a=['aditya','singh','chouhan']\n",
    "b=[]\n",
    "for i in a:\n",
    "    b.append(i.capitalize())\n",
    "print(b)  "
   ]
  },
  {
   "cell_type": "code",
   "execution_count": 54,
   "id": "66d76836",
   "metadata": {},
   "outputs": [
    {
     "name": "stdout",
     "output_type": "stream",
     "text": [
      "aditya singh chouhan\n",
      "['Aditya', 'Singh', 'Chouhan']\n"
     ]
    }
   ],
   "source": [
    "a=input().split()\n",
    "b=[]\n",
    "for i in a:\n",
    "    b.append(i.capitalize())\n",
    "print(b)  "
   ]
  },
  {
   "cell_type": "markdown",
   "id": "3f5f7684",
   "metadata": {},
   "source": [
    "13. The goal of this exercise is to see if you can mimic the behavior of the in operator and the count\n",
    "    and index methods using only variables, for loops, and if statements.\n",
    "\n",
    "(a) Without using the in operator, write a program that asks the user for a string and a letter\n",
    "    and prints out whether or not the letter appears in the string.\n",
    "\n",
    "(b) Without using the count method, write a program that asks the user for a string and a\n",
    "    letter and counts how many occurrences there are of the letter in the string.\n",
    "\n",
    "(c) Without using the index method, write a program that asks the user for a string and a\n",
    "    letter and prints out the index of the first occurrence of the letter in the string. If the letter is\n",
    "    not in the string, the program should say so."
   ]
  },
  {
   "cell_type": "code",
   "execution_count": 215,
   "id": "a27352b6",
   "metadata": {},
   "outputs": [
    {
     "name": "stdout",
     "output_type": "stream",
     "text": [
      "Enter a string: aditya\n",
      "Enter a letter: z\n",
      "not\n"
     ]
    }
   ],
   "source": [
    "#(a)\n",
    "s1=input(\"Enter a string: \")\n",
    "s2=input(\"Enter a letter: \")\n",
    "for i in s1:\n",
    "    if i==s2:\n",
    "        print(\"yes\")\n",
    "        break\n",
    "    else:\n",
    "        print(\"not\")\n",
    "        break"
   ]
  },
  {
   "cell_type": "code",
   "execution_count": 204,
   "id": "fa70b1f8",
   "metadata": {},
   "outputs": [
    {
     "name": "stdout",
     "output_type": "stream",
     "text": [
      "Enter a string: aditya\n",
      "Enter a letter: a\n",
      "2\n"
     ]
    }
   ],
   "source": [
    "#(b)\n",
    "s1=input(\"Enter a string: \")\n",
    "s2=input(\"Enter a letter: \")\n",
    "c=0\n",
    "for i in s1:\n",
    "    if i==s2:\n",
    "        c=c+1\n",
    "print(c)"
   ]
  },
  {
   "cell_type": "code",
   "execution_count": 230,
   "id": "4fccfbde",
   "metadata": {},
   "outputs": [
    {
     "name": "stdout",
     "output_type": "stream",
     "text": [
      "Enter a string: aditya\n",
      "Enter a letter: d\n",
      "1\n"
     ]
    }
   ],
   "source": [
    "#(c)\n",
    "s1=input(\"Enter a string: \")\n",
    "s2=input(\"Enter a letter: \")\n",
    "ind=False\n",
    "for i in range(len(s1)):\n",
    "    if s1[i]==s2:\n",
    "        ind=True\n",
    "        print(i)\n",
    "        \n",
    "if ind==False:\n",
    "    print(\"NO\")\n",
    "    "
   ]
  },
  {
   "cell_type": "code",
   "execution_count": 237,
   "id": "1a411dfa",
   "metadata": {},
   "outputs": [
    {
     "name": "stdout",
     "output_type": "stream",
     "text": [
      "Enter a string: aditya\n",
      "Enter a letter: y\n",
      "4\n"
     ]
    }
   ],
   "source": [
    "s1=input(\"Enter a string: \")\n",
    "s2=input(\"Enter a letter: \")\n",
    "for i in range(len(s1)):\n",
    "    if s1[i]==s2:\n",
    "        print(i)"
   ]
  },
  {
   "cell_type": "markdown",
   "id": "c020d348",
   "metadata": {},
   "source": [
    "14. Finding a substring within a string\n",
    "\n",
    " For example, if we were presented a series of lines formatted as follows:\n",
    "\n",
    " From stephen.marquard@uct.ac.za Sat Jan 5 09:14:16 2008\n",
    "\n",
    "and we wanted to pull out only the second half of the address (i.e., uct.ac.za)"
   ]
  },
  {
   "cell_type": "code",
   "execution_count": 130,
   "id": "5105f816",
   "metadata": {},
   "outputs": [
    {
     "name": "stdout",
     "output_type": "stream",
     "text": [
      "uct.ac.za\n"
     ]
    }
   ],
   "source": [
    "string='From stephen.marquard@uct.ac.za Sat Jan 5 09:14:16 2008'\n",
    "n=a.find('@')\n",
    "m=a.find('za')\n",
    "substring=string[n+1:m+2]\n",
    "print(substring)"
   ]
  },
  {
   "cell_type": "code",
   "execution_count": 133,
   "id": "fa1d475e",
   "metadata": {},
   "outputs": [
    {
     "name": "stdout",
     "output_type": "stream",
     "text": [
      "uct.ac.za\n"
     ]
    }
   ],
   "source": [
    "string='From stephen.marquard@uct.ac.za Sat Jan 5 09:14:16 2008'\n",
    "n=a.find('@')\n",
    "m=a.find(' ',n)\n",
    "substring=string[n+1:m]\n",
    "print(substring)"
   ]
  },
  {
   "cell_type": "markdown",
   "id": "ded034d4",
   "metadata": {},
   "source": [
    "15. Write a Python program to add &#39;ing&#39; at the end of a given string (length should be at least 3). If the\n",
    "    given string already ends with &#39;ing&#39; then add &#39;ly&#39; instead.\n",
    "    If the string length of the given string is less than 3, leave it unchanged.\n",
    "    \n",
    "    Go to the editor\n",
    "    \n",
    "    Sample String : &#39;abc&#39;\n",
    "    \n",
    "    Expected Result : &#39;abcing&#39;\n",
    "    \n",
    "    Sample String : &#39;string&#39;\n",
    "    \n",
    "    Expected Result : &#39;stringly&#39;"
   ]
  },
  {
   "cell_type": "code",
   "execution_count": 90,
   "id": "e846743d",
   "metadata": {},
   "outputs": [
    {
     "name": "stdout",
     "output_type": "stream",
     "text": [
      "Enter a string : string\n",
      "stringly\n"
     ]
    }
   ],
   "source": [
    "string=input(\"Enter a string : \").split()\n",
    "for i in string:\n",
    "    if len(i)==3:\n",
    "        print(i+'ing')\n",
    "    else:    \n",
    "        if len(i)>=3:\n",
    "            print(i+'ly')\n",
    "        else:\n",
    "            print(\"string length should be at least 3\")\n"
   ]
  },
  {
   "cell_type": "markdown",
   "id": "f2b68aa7",
   "metadata": {},
   "source": [
    "16. Take the following Python code that stores a string:‘\n",
    "\n",
    "    string = &#39;X-DSPAM-Confidence: 0.8475&#39;\n",
    "\n",
    "    Extract the portion of the string after the colon character and then use the float function to convert\n",
    "    the extracted string into a floating point number."
   ]
  },
  {
   "cell_type": "code",
   "execution_count": 39,
   "id": "517900d6",
   "metadata": {},
   "outputs": [
    {
     "name": "stdout",
     "output_type": "stream",
     "text": [
      "0.8475\n"
     ]
    }
   ],
   "source": [
    "string ='X-DSPAM-Confidence: 0.8475'\n",
    "i1=string.find(':')                 \n",
    "n1=string[i1+ 1:]                 \n",
    "b=float(n1)                 \n",
    "print(b)"
   ]
  },
  {
   "cell_type": "code",
   "execution_count": 53,
   "id": "9d4d3262",
   "metadata": {},
   "outputs": [
    {
     "name": "stdout",
     "output_type": "stream",
     "text": [
      ": 0.8475\n"
     ]
    }
   ],
   "source": [
    "string='X-DSPAM-confidence: 0.8475'\n",
    "i1=string.find(':')\n",
    "n1=string[i1:]\n",
    "#b=float(n1)\n",
    "print(n1)"
   ]
  },
  {
   "cell_type": "code",
   "execution_count": null,
   "id": "e9bbe715",
   "metadata": {},
   "outputs": [],
   "source": []
  }
 ],
 "metadata": {
  "kernelspec": {
   "display_name": "Python 3 (ipykernel)",
   "language": "python",
   "name": "python3"
  },
  "language_info": {
   "codemirror_mode": {
    "name": "ipython",
    "version": 3
   },
   "file_extension": ".py",
   "mimetype": "text/x-python",
   "name": "python",
   "nbconvert_exporter": "python",
   "pygments_lexer": "ipython3",
   "version": "3.10.9"
  }
 },
 "nbformat": 4,
 "nbformat_minor": 5
}
