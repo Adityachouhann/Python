{
 "cells": [
  {
   "cell_type": "markdown",
   "id": "a81a2c78",
   "metadata": {},
   "source": [
    "$Problem-1(Use conditional statements)$ \n",
    "\n",
    "    Write a program that asks the user to enter a length in centimetres. If the user enters\n",
    "    a negative length, the program should tell the user that the entry is invalid. Otherwise,\n",
    "    the program should convert the length to inches and print out the result. There are\n",
    "    2.54 centimetres in an inch."
   ]
  },
  {
   "cell_type": "code",
   "execution_count": 2,
   "id": "4276874f",
   "metadata": {},
   "outputs": [
    {
     "name": "stdout",
     "output_type": "stream",
     "text": [
      "Enter the length in CM:2\n",
      "The length in INCH = 5.08\n"
     ]
    }
   ],
   "source": [
    "length=eval(input(\"Enter the length in CM:\"))\n",
    "inch=length*2.54\n",
    "if length<=-1:\n",
    "    print(\"Invalid Length\")\n",
    "else:\n",
    "    print(f\"The length in INCH = {inch}\")"
   ]
  },
  {
   "cell_type": "markdown",
   "id": "4293886e",
   "metadata": {},
   "source": [
    "$Problem-2(Use conditional statements)$ \n",
    "\n",
    "    Ask the user for a temperature. Then ask them what units, Celsius or Fahrenheit, the\n",
    "    temperature is in. Your program should convert the temperature to the other unit. The\n",
    "    conversions are F = 9 5 C +32 and C = 5 9 (F − 32)."
   ]
  },
  {
   "cell_type": "code",
   "execution_count": 37,
   "id": "9a0cc487",
   "metadata": {},
   "outputs": [
    {
     "name": "stdout",
     "output_type": "stream",
     "text": [
      "Enter the Temperature:1\n",
      "What units,Celsius or Fahrenheit:\n",
      "Press:1 for Celsius and 2 for Fahrenheit:2\n",
      " Temperature in Fahrenheit = 33.8\n"
     ]
    }
   ],
   "source": [
    "temp=eval(input(\"Enter the Temperature:\"))\n",
    "celsius=(temp-32)/1.8\n",
    "fahrenheit=(temp*1.8)+32\n",
    "print(\"What units,Celsius or Fahrenheit:\")\n",
    "unit=eval(input(\"Press:1 for Celsius and 2 for Fahrenheit:\"))\n",
    "if unit==1:\n",
    "    print(f\"Temperature in Celcius = {celsius}\")\n",
    "else:\n",
    "    print(f\" Temperature in Fahrenheit = {fahrenheit}\")"
   ]
  },
  {
   "cell_type": "markdown",
   "id": "3d11864a",
   "metadata": {},
   "source": [
    "$Problem-3(Use conditional statements)$\n",
    "\n",
    "    Ask the user to enter a temperature in Celsius. The program should print a\n",
    "    message based on the temperature: \n",
    "    • If the temperature is less than -273.15, print that the temperature is invalid because it is\n",
    "      below absolute zero. \n",
    "    • If it is exactly -273.15, print that the temperature is absolute 0. \n",
    "    • If the temperature is between -273.15 and 0, print that the temperature is below\n",
    "      freezing. \n",
    "    • If it is 0, print that the temperature is at the freezing point. \n",
    "    • If it is between 0 and 100, print that the temperature is in the normal\n",
    "      range. \n",
    "    • If it is 100, print that the temperature is at the boiling point. \n",
    "    • If it is above 100, print that the temperature is above the boiling point."
   ]
  },
  {
   "cell_type": "code",
   "execution_count": 43,
   "id": "77b05c3a",
   "metadata": {},
   "outputs": [
    {
     "name": "stdout",
     "output_type": "stream",
     "text": [
      "Enter the Temperature in Celsius:123\n",
      "The Temperature is above the boiling point.\n"
     ]
    }
   ],
   "source": [
    "temp=eval(input(\"Enter the Temperature in Celsius:\"))\n",
    "if temp<-273.15:\n",
    "    print(\"Temperature is Invalid because it is below absolute zero\")\n",
    "elif temp==-273.15:\n",
    "    print(\"The Temperature is absolute 0\")\n",
    "elif temp>-273.15 and temp<0:\n",
    "    print(\"The Temperature is below freezing\")\n",
    "elif temp==0:\n",
    "    print(\"The Temperature is at the freezing point\")\n",
    "elif temp>0 and temp<100:\n",
    "    print(\"The Temperature is in the normal range\")\n",
    "elif temp==100:\n",
    "    print(\"The Temperature is at the boiling point\")\n",
    "else:\n",
    "    print(\"The Temperature is above the boiling point.\")"
   ]
  },
  {
   "cell_type": "markdown",
   "id": "c87cb9fe",
   "metadata": {},
   "source": [
    "$Problem-4(Use conditional statements)$\n",
    "\n",
    "    Write a program that asks the user how many credits they have taken. If they have taken 23 or\n",
    "    less, print that the student is a freshman. If they have taken between 24 and 53, print that they\n",
    "    are asophomore. The range for juniors is 54 to 83, and for seniors it is 84 and over."
   ]
  },
  {
   "cell_type": "code",
   "execution_count": 45,
   "id": "b3406486",
   "metadata": {},
   "outputs": [
    {
     "name": "stdout",
     "output_type": "stream",
     "text": [
      "Enter How many credits you taken:34\n",
      "You are Asophomere\n"
     ]
    }
   ],
   "source": [
    "credit=eval(input(\"Enter How many credits you taken:\"))\n",
    "if credit<=23:\n",
    "    print(\"The student is a freshman\")\n",
    "elif credit>23 and credit<54:\n",
    "    print(\"You are Asophomere\")\n",
    "elif credit>=54 and credit<=83:\n",
    "    print(\"You are in range for juniors\")\n",
    "else:\n",
    "    print(\"You  are in seniors\")"
   ]
  },
  {
   "cell_type": "markdown",
   "id": "83f77cd0",
   "metadata": {},
   "source": [
    "$Problem-5(Use conditional statements)$\n",
    "\n",
    "    Generate a random number between 1 and 10. Ask the user to guess the number and print a\n",
    "    message based on whether they get it right or not."
   ]
  },
  {
   "cell_type": "code",
   "execution_count": 46,
   "id": "10b4109d",
   "metadata": {},
   "outputs": [
    {
     "name": "stdout",
     "output_type": "stream",
     "text": [
      "Enter a number:2\n",
      "wrong\n"
     ]
    }
   ],
   "source": [
    "import random\n",
    "a=random.randint(1,10)\n",
    "b=eval(input(\"Enter a number:\"))\n",
    "if a==b:\n",
    "    print(\"right\")\n",
    "else:\n",
    "    print(\"wrong\")"
   ]
  },
  {
   "cell_type": "markdown",
   "id": "2ea58ae2",
   "metadata": {},
   "source": [
    "$Problem-6(Use conditional statements)$\n",
    "\n",
    "    A store charges $12 per item if you buy less than 10 items. If you buy between 10\n",
    "    and 99 items, the cost is $10 per item. If you buy 100 or more items, the cost is $7\n",
    "    per item. Write a program that asks the user how many items they are buying and\n",
    "    prints the total cost."
   ]
  },
  {
   "cell_type": "code",
   "execution_count": 47,
   "id": "c9248ee4",
   "metadata": {},
   "outputs": [
    {
     "name": "stdout",
     "output_type": "stream",
     "text": [
      "Item less than 10 u have to pay $12 each:\n",
      "Item Between 10 and 99 u have to pay $10 each:\n",
      "Item is 100 or more u have to pay $7 each:\n",
      "Enter how many items u have bought:123\n",
      "Total item:123\n",
      "Total cost:861\n"
     ]
    }
   ],
   "source": [
    "print(\"Item less than 10 u have to pay $12 each:\")\n",
    "print(\"Item Between 10 and 99 u have to pay $10 each:\")\n",
    "print(\"Item is 100 or more u have to pay $7 each:\")\n",
    "item=eval(input(\"Enter how many items u have bought:\"))\n",
    "if item<10:\n",
    "    cost=item*12\n",
    "    print(f\"Total item:{item}\")\n",
    "    print(f\"Total cost:{cost}\")\n",
    "elif item>=10 and item<=99:\n",
    "    cost=item*10\n",
    "    print(f\"Total item:{item}\")\n",
    "    print(f\"Total cost:{cost}\")\n",
    "else:\n",
    "    cost=item*7\n",
    "    print(f\"Total item:{item}\")\n",
    "    print(f\"Total cost:{cost}\")\n"
   ]
  },
  {
   "cell_type": "markdown",
   "id": "bbf39959",
   "metadata": {},
   "source": [
    "$Problem-7(Use conditional statements)$\n",
    "\n",
    "    Write a program that asks the user for two numbers and prints Close if the\n",
    "    numbers are within .001 of each other and Not close otherwise."
   ]
  },
  {
   "cell_type": "code",
   "execution_count": 43,
   "id": "6dc145eb",
   "metadata": {},
   "outputs": [
    {
     "name": "stdout",
     "output_type": "stream",
     "text": [
      "Enter first number:0.002\n",
      "Enter second number:0.003\n",
      "close\n"
     ]
    }
   ],
   "source": [
    "a=eval(input(\"Enter first number:\"))\n",
    "b=eval(input(\"Enter second number:\"))\n",
    "if abs(a-b)<=0.001:\n",
    "    print(\"close\")\n",
    "else:\n",
    "    print(\"not close\")"
   ]
  },
  {
   "cell_type": "markdown",
   "id": "7dc6303d",
   "metadata": {},
   "source": [
    "$Problem-8(Use conditional statements)$\n",
    "\n",
    "    A year is a leap year if it is divisible by 4, except that years divisible by 100 are not leap years unless\n",
    "    they are also divisible by 400. Write a program that asks the user for a year and prints out whether\n",
    "    it is a leap year or not."
   ]
  },
  {
   "cell_type": "code",
   "execution_count": 58,
   "id": "3810ef12",
   "metadata": {},
   "outputs": [
    {
     "name": "stdout",
     "output_type": "stream",
     "text": [
      "Enter a year2024\n",
      "2024 is a leap year\n"
     ]
    }
   ],
   "source": [
    "num=eval(input(\"Enter a year\"))\n",
    "if num%100==0 and num%400==0:\n",
    "    print(f\" {num} is not a leap year\")\n",
    "elif num%4==0 or num%100==0:\n",
    "    print(f\"{num} is a leap year\")\n",
    "else:\n",
    "    print(f\"{num} is not a leap year\")"
   ]
  },
  {
   "cell_type": "markdown",
   "id": "7a002fe7",
   "metadata": {},
   "source": [
    "$Problem-9(Use conditional statements)$\n",
    "\n",
    "    Write a program that asks the user to enter a number and prints out all the divisors of that\n",
    "    number. [Hint: the % operator is used to tell if a number is divisible by something."
   ]
  },
  {
   "cell_type": "code",
   "execution_count": 35,
   "id": "ee5f8da9",
   "metadata": {},
   "outputs": [
    {
     "name": "stdout",
     "output_type": "stream",
     "text": [
      "Enter a number6\n",
      "the divisor of 6 = 1\n",
      "the divisor of 6 = 2\n",
      "the divisor of 6 = 3\n",
      "the divisor of 6 = 6\n"
     ]
    }
   ],
   "source": [
    "num=eval(input(\"Enter a number\"))\n",
    "i=1\n",
    "while i<=num:\n",
    "    if num%1==0 and num%i==0:\n",
    "        print(f\"the divisor of {num} = {i}\")\n",
    "    i=i+1\n",
    "    "
   ]
  },
  {
   "cell_type": "code",
   "execution_count": 37,
   "id": "a9e3c082",
   "metadata": {},
   "outputs": [
    {
     "name": "stdout",
     "output_type": "stream",
     "text": [
      "Enter a number5\n",
      "the divisor of 5 = 1\n",
      "the divisor of 5 = 5\n"
     ]
    }
   ],
   "source": [
    "num=eval(input(\"Enter a number\"))\n",
    "for i in range (1,num+1):\n",
    "    if num%1==0 and num%i==0:\n",
    "        print(f\"the divisor of {num} = {i}\")"
   ]
  },
  {
   "cell_type": "markdown",
   "id": "a656622c",
   "metadata": {},
   "source": [
    "$Problem-10(Use conditional statements)$\n",
    "\n",
    "    Write a program that asks the user for an hour between 1 and 12, asks them to\n",
    "    enter am or pm, and asks them how many hours into the future they want to go. \n",
    "    Print out what the hour will be that many hours into the future, printing am or pm as\n",
    "    appropriate. An example is shown below. \n",
    "    Enter hour: 8 \n",
    "    am (1) or pm (2)? 1 \n",
    "    How many hours ahead? 5 \n",
    "    New hour: 1 pm\n",
    "    "
   ]
  },
  {
   "cell_type": "code",
   "execution_count": 70,
   "id": "15ce573e",
   "metadata": {},
   "outputs": [
    {
     "name": "stdout",
     "output_type": "stream",
     "text": [
      "enter a hour: 8\n",
      "enter am (1)  pm (2)? 1\n",
      "How many hours ahead? 5\n",
      "New hour: 1 pm\n"
     ]
    }
   ],
   "source": [
    "hour=eval(input(\"enter a hour: \"))\n",
    "am_pm=eval(input(\"enter am (1)  pm (2)? \"))\n",
    "n=12\n",
    "ahead=eval(input(\"How many hours ahead? \"))\n",
    "new_hour=hour+ahead\n",
    "if new_hour>12:\n",
    "    n_hour=new_hour-12\n",
    "    print(f\"New hour: {n_hour} pm\")\n",
    "else:\n",
    "    print(f\"New hour: {new_hour} am\")"
   ]
  },
  {
   "cell_type": "code",
   "execution_count": null,
   "id": "b19dbbb4",
   "metadata": {},
   "outputs": [],
   "source": []
  }
 ],
 "metadata": {
  "kernelspec": {
   "display_name": "Python 3 (ipykernel)",
   "language": "python",
   "name": "python3"
  },
  "language_info": {
   "codemirror_mode": {
    "name": "ipython",
    "version": 3
   },
   "file_extension": ".py",
   "mimetype": "text/x-python",
   "name": "python",
   "nbconvert_exporter": "python",
   "pygments_lexer": "ipython3",
   "version": "3.10.9"
  }
 },
 "nbformat": 4,
 "nbformat_minor": 5
}
