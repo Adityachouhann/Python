{
 "cells": [
  {
   "cell_type": "code",
   "execution_count": 3,
   "id": "28f8c447-3a2e-4fb4-b368-321e5afaff1f",
   "metadata": {},
   "outputs": [
    {
     "name": "stdout",
     "output_type": "stream",
     "text": [
      "\n",
      "Welcome to the CLI Shopping Application!\n",
      "1. Add item to cart\n",
      "2. View cart\n",
      "3. Checkout\n",
      "4. Exit\n"
     ]
    },
    {
     "name": "stdin",
     "output_type": "stream",
     "text": [
      "Choose an option (1-4):  1\n",
      "Enter the item name:  book\n",
      "Enter the item price (in Rs.):  200\n",
      "Enter the quantity:  2\n"
     ]
    },
    {
     "name": "stdout",
     "output_type": "stream",
     "text": [
      "Added 2 of book to the cart.\n",
      "\n",
      "Welcome to the CLI Shopping Application!\n",
      "1. Add item to cart\n",
      "2. View cart\n",
      "3. Checkout\n",
      "4. Exit\n"
     ]
    },
    {
     "name": "stdin",
     "output_type": "stream",
     "text": [
      "Choose an option (1-4):  2\n"
     ]
    },
    {
     "name": "stdout",
     "output_type": "stream",
     "text": [
      "Your shopping cart:\n",
      "book: Rs.200.0 x 2 = Rs.400.0\n",
      "Total: Rs.400.0\n",
      "\n",
      "Welcome to the CLI Shopping Application!\n",
      "1. Add item to cart\n",
      "2. View cart\n",
      "3. Checkout\n",
      "4. Exit\n"
     ]
    },
    {
     "name": "stdin",
     "output_type": "stream",
     "text": [
      "Choose an option (1-4):  3\n"
     ]
    },
    {
     "name": "stdout",
     "output_type": "stream",
     "text": [
      "Your total is Rs.400.0. Thank you for your purchase!\n",
      "\n",
      "Welcome to the CLI Shopping Application!\n",
      "1. Add item to cart\n",
      "2. View cart\n",
      "3. Checkout\n",
      "4. Exit\n"
     ]
    },
    {
     "name": "stdin",
     "output_type": "stream",
     "text": [
      "Choose an option (1-4):  4\n"
     ]
    },
    {
     "name": "stdout",
     "output_type": "stream",
     "text": [
      "Thank you for using the CLI Shopping Application. Goodbye!\n"
     ]
    }
   ],
   "source": [
    "class ShoppingCart:\n",
    "    def __init__(self):\n",
    "        self.cart = {}\n",
    "\n",
    "    def add_item(self, item, price, quantity=1):\n",
    "        if item in self.cart:\n",
    "            self.cart[item]['quantity'] += quantity\n",
    "        else:\n",
    "            self.cart[item] = {'price': price, 'quantity': quantity}\n",
    "        print(f\"Added {quantity} of {item} to the cart.\")\n",
    "\n",
    "    def view_cart(self):\n",
    "        if not self.cart:\n",
    "            print(\"Your cart is empty.\")\n",
    "            return\n",
    "        print(\"Your shopping cart:\")\n",
    "        total = 0\n",
    "        for item, details in self.cart.items():\n",
    "            item_total = details['price'] * details['quantity']\n",
    "            total += item_total\n",
    "            print(f\"{item}: Rs.{details['price']} x {details['quantity']} = Rs.{item_total}\")\n",
    "        print(f\"Total: Rs.{total}\")\n",
    "\n",
    "    def checkout(self):\n",
    "        if not self.cart:\n",
    "            print(\"Your cart is empty. Cannot checkout.\")\n",
    "            return\n",
    "        total = sum(details['price'] * details['quantity'] for details in self.cart.values())\n",
    "        print(f\"Your total is Rs.{total}. Thank you for your purchase!\")\n",
    "        self.cart.clear()  # Clear the cart after checkout\n",
    "\n",
    "def main():\n",
    "    shopping_cart = ShoppingCart()\n",
    "    while True:\n",
    "        print(\"\\nWelcome to the CLI Shopping Application!\")\n",
    "        print(\"1. Add item to cart\")\n",
    "        print(\"2. View cart\")\n",
    "        print(\"3. Checkout\")\n",
    "        print(\"4. Exit\")\n",
    "\n",
    "        choice = input(\"Choose an option (1-4): \")\n",
    "        \n",
    "        if choice == '1':\n",
    "            item = input(\"Enter the item name: \")\n",
    "            price = float(input(\"Enter the item price (in Rs.): \"))\n",
    "            quantity = int(input(\"Enter the quantity: \"))\n",
    "            shopping_cart.add_item(item, price, quantity)\n",
    "        \n",
    "        elif choice == '2':\n",
    "            shopping_cart.view_cart()\n",
    "        \n",
    "        elif choice == '3':\n",
    "            shopping_cart.checkout()\n",
    "        \n",
    "        elif choice == '4':\n",
    "            print(\"Thank you for using the CLI Shopping Application. Goodbye!\")\n",
    "            break\n",
    "        \n",
    "        else:\n",
    "            print(\"Invalid option. Please try again.\")\n",
    "\n",
    "if __name__ == \"__main__\":\n",
    "    main()\n"
   ]
  },
  {
   "cell_type": "code",
   "execution_count": null,
   "id": "441ba652-0ea1-46b8-91d2-4cf91ddf4131",
   "metadata": {},
   "outputs": [],
   "source": []
  }
 ],
 "metadata": {
  "kernelspec": {
   "display_name": "Python [conda env:base] *",
   "language": "python",
   "name": "conda-base-py"
  },
  "language_info": {
   "codemirror_mode": {
    "name": "ipython",
    "version": 3
   },
   "file_extension": ".py",
   "mimetype": "text/x-python",
   "name": "python",
   "nbconvert_exporter": "python",
   "pygments_lexer": "ipython3",
   "version": "3.12.7"
  }
 },
 "nbformat": 4,
 "nbformat_minor": 5
}
